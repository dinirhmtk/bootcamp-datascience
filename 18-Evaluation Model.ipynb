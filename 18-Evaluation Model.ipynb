{
 "cells": [
  {
   "cell_type": "markdown",
   "metadata": {
    "colab_type": "text",
    "id": "PrQVcF-ldGWQ"
   },
   "source": [
    "<h1> Soal 1: Pemahaman Tentang Model Evaluasi</h1>\n",
    "\n",
    "Jawab pertanyaan di bawah ini dengan bahasa masing-masing?\n",
    "\n",
    "1. Apa perbedaan antara data latih, data validasi, dan data test?\n",
    "2. Bagaimana cara kita menilai performa suatu model?\n",
    "3. Apa itu Confusion Matrix? Jelaskan secara lengkap!\n",
    "4. Apa itu Classification Report dari sklearn?"
   ]
  },
  {
   "cell_type": "markdown",
   "metadata": {
    "colab_type": "text",
    "id": "sr6D5UIhgpwO"
   },
   "source": [
    "Jawab :\n",
    "\n",
    "1. Data latih atau data train adalah data yang digunakan untuk melatih mesih dalam mempelajari sebuah data. Data validasi adalah data yang digunakan untuk proses validasi dalam rangka menghindari data overfitting, sedangkan data test adalah data yang digunakan untuk melakukan tes pada model, sebagai simulasi penggunaan model pada dunia nyata. Data testing tidak boleh pernah dilihat oleh model sebelumnya.\n",
    "\n",
    "\n",
    "2. Untuk mengevaluasi kinerja suatu model tidak hanya ditentukan oleh akurasi saja. Terdapat beberapa cara lain yang dapat digunakan untuk menilai performa dari suatu model, diantaranya :\n",
    "- Klasifikasi (classification metrics): accuracy, precision, recall, F1-score, ROC, AUC, dan lainnya\n",
    "- Regresi (regression metrics) : MSE, MAE, dan lainnya\n",
    "- Klastering (clustering metrics): Silhouette Coefficient, Davies-Bouldin Index, Dunn Index, dan lainnya\n",
    "\n",
    "3. Confusion Matrix adalah pengukuran performa untuk masalah klasifikasi machine learning dimana output dapat berupa dua kelas atau lebih.  Confusion Matrix adalah tabel dengan 4 kombinasi berbeda dari nilai prediksi dan nilai aktual. Ada empat istilah yang merupakan representasi hasil proses klasifikasi pada confusion matrix yaitu True Positif (TP), True Negatif (TN), False Positif (FP), dan False Negatif (FN).\n",
    "\n",
    "\n",
    "4. Classification report adalah fungsi dari salah satu modul metrics sklearn yang bertujuan untuk menilai kinerja model yang telah dibuat sebelumnya. Adapun performance metrics yang biasa digunakan adalah :\n",
    "- Accuracy : menggambarkan seberapa akurat model dapat mengklasifikasikan dengan benar.\n",
    "- Precision : menggambarkan tingkat keakuratan antara data yang diminta dengan hasil prediksi yang diberikan oleh model.\n",
    "- Recall : menggambarkan keberhasilan model dalam menemukan kembali sebuah informasi."
   ]
  },
  {
   "cell_type": "markdown",
   "metadata": {
    "colab_type": "text",
    "id": "Fv2TVsgAdGWY"
   },
   "source": [
    "<h1>Soal 2: Aplikasi Model Evaluasi</h1>\n",
    "\n",
    "Kali ini kita akan menggunakan data untuk memprediksi kelangsungan hidup pasien yang telah mengalami operasi payudara. Dengan informasi yang dimiliki terkait pasien, kita akan membuat model untuk memprediksi apakah pasien akan bertahan hidup dalam waktu lebih dari 5 tahun atau tidak.\n",
    "\n",
    "Lebih Lengkapnya kalian bisa membaca informasi tentang dataset di link berikut: https://raw.githubusercontent.com/jbrownlee/Datasets/master/haberman.names\n",
    "\n",
    "Buat model Klasifikasi (Model/Algoritma Bebas) untuk memprediksi status pasien dengan ketentuan sebagai berikut:\n",
    "\n",
    "1. Bagi kedua data ini menjadi data training dan data test dengan test_size=0.25.\n",
    "3. Pelajar tentang metrics roc_auc_score kemudian buatlah model dan evaluasi dengan menggunakan teknik cross-validation dengan scoring 'roc_auc'. Baca https://scikit-learn.org/stable/modules/generated/sklearn.model_selection.cross_val_score.html untuk menggunakan metric roc_auc saat cross-validation.\n",
    "3. Berapa score rata2 dari model dengan teknik cross-validation tersebut?\n",
    "4. Prediksi data test dengan model yang telah kalian buat!\n",
    "5. Bagaimana hasil confusion matrix dari hasil prediksi tersebut?\n",
    "6. Bagaimana classification report dari hasil prediksi tersebut?\n",
    "5. Seberapa baik model anda dalam memprediksi seorang pasien mempunyai status positive?\n",
    "6. Seberapa baik model anda dalam memprediksi seorang pasien mempunyai status negatif?"
   ]
  },
  {
   "cell_type": "code",
   "execution_count": 1,
   "metadata": {
    "colab": {},
    "colab_type": "code",
    "id": "g4UqaWyPdGWj"
   },
   "outputs": [],
   "source": [
    "import pandas as pd\n",
    "\n",
    "url = 'https://raw.githubusercontent.com/jbrownlee/Datasets/master/haberman.csv'\n",
    "list_cols = ['Age', \"Patient's Years\", \"N_positive_ax\", \"survival_status\"]\n",
    "df = pd.read_csv(url, names=list_cols)"
   ]
  },
  {
   "cell_type": "code",
   "execution_count": 2,
   "metadata": {
    "colab": {},
    "colab_type": "code",
    "id": "YrbPNGtHdGXV"
   },
   "outputs": [
    {
     "data": {
      "text/html": [
       "<div>\n",
       "<style scoped>\n",
       "    .dataframe tbody tr th:only-of-type {\n",
       "        vertical-align: middle;\n",
       "    }\n",
       "\n",
       "    .dataframe tbody tr th {\n",
       "        vertical-align: top;\n",
       "    }\n",
       "\n",
       "    .dataframe thead th {\n",
       "        text-align: right;\n",
       "    }\n",
       "</style>\n",
       "<table border=\"1\" class=\"dataframe\">\n",
       "  <thead>\n",
       "    <tr style=\"text-align: right;\">\n",
       "      <th></th>\n",
       "      <th>Age</th>\n",
       "      <th>Patient's Years</th>\n",
       "      <th>N_positive_ax</th>\n",
       "      <th>survival_status</th>\n",
       "    </tr>\n",
       "  </thead>\n",
       "  <tbody>\n",
       "    <tr>\n",
       "      <th>0</th>\n",
       "      <td>30</td>\n",
       "      <td>64</td>\n",
       "      <td>1</td>\n",
       "      <td>1</td>\n",
       "    </tr>\n",
       "    <tr>\n",
       "      <th>1</th>\n",
       "      <td>30</td>\n",
       "      <td>62</td>\n",
       "      <td>3</td>\n",
       "      <td>1</td>\n",
       "    </tr>\n",
       "    <tr>\n",
       "      <th>2</th>\n",
       "      <td>30</td>\n",
       "      <td>65</td>\n",
       "      <td>0</td>\n",
       "      <td>1</td>\n",
       "    </tr>\n",
       "    <tr>\n",
       "      <th>3</th>\n",
       "      <td>31</td>\n",
       "      <td>59</td>\n",
       "      <td>2</td>\n",
       "      <td>1</td>\n",
       "    </tr>\n",
       "    <tr>\n",
       "      <th>4</th>\n",
       "      <td>31</td>\n",
       "      <td>65</td>\n",
       "      <td>4</td>\n",
       "      <td>1</td>\n",
       "    </tr>\n",
       "  </tbody>\n",
       "</table>\n",
       "</div>"
      ],
      "text/plain": [
       "   Age  Patient's Years  N_positive_ax  survival_status\n",
       "0   30               64              1                1\n",
       "1   30               62              3                1\n",
       "2   30               65              0                1\n",
       "3   31               59              2                1\n",
       "4   31               65              4                1"
      ]
     },
     "execution_count": 2,
     "metadata": {},
     "output_type": "execute_result"
    }
   ],
   "source": [
    "df.head()"
   ]
  },
  {
   "cell_type": "code",
   "execution_count": 3,
   "metadata": {
    "colab": {},
    "colab_type": "code",
    "id": "-dxYNPg7dGX4"
   },
   "outputs": [
    {
     "data": {
      "text/plain": [
       "1    225\n",
       "2     81\n",
       "Name: survival_status, dtype: int64"
      ]
     },
     "execution_count": 3,
     "metadata": {},
     "output_type": "execute_result"
    }
   ],
   "source": [
    "df['survival_status'].value_counts()"
   ]
  },
  {
   "cell_type": "code",
   "execution_count": 4,
   "metadata": {},
   "outputs": [],
   "source": [
    "# mendefinisikan data target dan data feature\n",
    "x = df.drop('survival_status', axis=1)\n",
    "y = df['survival_status']"
   ]
  },
  {
   "cell_type": "code",
   "execution_count": 5,
   "metadata": {
    "colab": {},
    "colab_type": "code",
    "id": "8W2amvZgdGYX"
   },
   "outputs": [
    {
     "name": "stdout",
     "output_type": "stream",
     "text": [
      "(229, 3) (229,)\n",
      "(77, 3) (77,)\n"
     ]
    }
   ],
   "source": [
    "# membagi kedua data ini menjadi data training dan data test dengan test_size=0.25\n",
    "from sklearn.model_selection import train_test_split\n",
    "x_train, x_test, y_train, y_test = train_test_split(x, y, test_size = 0.25, random_state = 0)\n",
    "print(x_train.shape, y_train.shape)\n",
    "print(x_test.shape, y_test.shape)"
   ]
  },
  {
   "cell_type": "code",
   "execution_count": 6,
   "metadata": {},
   "outputs": [
    {
     "name": "stdout",
     "output_type": "stream",
     "text": [
      "[0.53529412 0.37430556 0.6125     0.54722222 0.60625   ]\n",
      "Score rata rata :  0.5322140522875817\n"
     ]
    }
   ],
   "source": [
    "# model algoritma dtree dan evaluasi dengan menggunakan teknik cross-validation dengan scoring 'roc_auc'\n",
    "from sklearn.tree import DecisionTreeClassifier\n",
    "from sklearn.model_selection import cross_val_score\n",
    "dtree = DecisionTreeClassifier()\n",
    "\n",
    "print(cross_val_score(dtree, x, y, scoring=\"roc_auc\", cv = 5))\n",
    "mean_score = cross_val_score(dtree, x, y, scoring=\"roc_auc\", cv = 5).mean()\n",
    "print('Score rata rata : ', mean_score)"
   ]
  },
  {
   "cell_type": "code",
   "execution_count": 7,
   "metadata": {},
   "outputs": [
    {
     "name": "stdout",
     "output_type": "stream",
     "text": [
      "Hasil prediksi data test : \n"
     ]
    },
    {
     "data": {
      "text/plain": [
       "array([2, 2, 1, 1, 1, 1, 1, 1, 1, 1, 1, 2, 2, 1, 1, 1, 2, 1, 1, 1, 1, 1,\n",
       "       1, 1, 2, 2, 1, 2, 1, 1, 1, 1, 2, 1, 2, 1, 1, 1, 2, 1, 2, 1, 2, 1,\n",
       "       1, 1, 1, 2, 1, 1, 2, 1, 1, 1, 1, 1, 1, 1, 1, 1, 1, 2, 1, 1, 1, 1,\n",
       "       1, 1, 1, 2, 1, 1, 1, 1, 1, 2, 1], dtype=int64)"
      ]
     },
     "metadata": {},
     "output_type": "display_data"
    }
   ],
   "source": [
    "# prediksi data test dengan data model yang sudah ada\n",
    "from IPython.display import display\n",
    "dtree.fit(x_train, y_train)\n",
    "y_pred = dtree.predict(x_test)\n",
    "print('Hasil prediksi data test : ')\n",
    "display(y_pred)"
   ]
  },
  {
   "cell_type": "code",
   "execution_count": 26,
   "metadata": {},
   "outputs": [
    {
     "data": {
      "image/png": "[encoded data removed]",
      "text/plain": [
       "<Figure size 1080x576 with 2 Axes>"
      ]
     },
     "metadata": {
      "needs_background": "light"
     },
     "output_type": "display_data"
    }
   ],
   "source": [
    "from sklearn.metrics import confusion_matrix\n",
    "confusion_matrix(y_test, y_pred) \n",
    "\n",
    "import seaborn as sns\n",
    "import matplotlib.pyplot as plt\n",
    "f, ax = plt.subplots(figsize=(15,8))\n",
    "sns.heatmap(confusion_matrix(y_test, y_pred), annot=True, fmt='', cmap='coolwarm', ax=ax)\n",
    "plt.xlabel('Actual Value')\n",
    "plt.ylabel('Predicted Value')\n",
    "\n",
    "plt.show()"
   ]
  },
  {
   "cell_type": "markdown",
   "metadata": {
    "colab_type": "text",
    "id": "teekoyIw--g2"
   },
   "source": [
    "<h1> Soal 3: Pemahaman Tentang Model Selection</h1>\n",
    "\n",
    "Jelaskan dengan bahasa sendiri!\n",
    "\n",
    "1. Apa itu Bias dan Variance?\n",
    "2. Apa itu Overfitting dan Underfitting?\n",
    "3. Apa yang bisa kita lakukan untuk mengatur kompleksitas dari model?\n",
    "4. Bagaimana model yang baik?\n",
    "5. Kapan kita menggunakan GridSearchcv dan kapan menggunakan RandomizedSearchCV?"
   ]
  },
  {
   "cell_type": "markdown",
   "metadata": {
    "colab_type": "text",
    "id": "4a1l4RNf_FcU"
   },
   "source": [
    "Jawab :\n",
    "\n",
    "1. Bias adalah perbedaan antara rata-rata hasil prediksi model dengan nilai yang sebenarnya. Sedangkan variance merupakan variability prediksi model terhadap data point yang menunjukkan sebaran datanya.\n",
    "\n",
    "\n",
    "2. Overfitting adalah kondisi yang terjadi ketika model yang telah dibuat dapat membaca noise yang ada pada data dan hal ini terjadi ketika suatu model diperintahkan untuk mempelajari data yang memiliki banyak noise. Sedangkan underfitting adalah kondisi yang terjadi ketika model yang telah dibuat tidak dapat mempelajari data pattern.\n",
    "\n",
    "\n",
    "3. Yang bisa dilakukan untuk mengatur adanya kompleksitas model adalah selain dengan memilih data yang tepat untuk menghindari terjadinya underfitting, beberapa strategi yang digunakan untuk menghindari overfitting diantaranya yaitu :\n",
    "- Menggunakan lebih banyak data training.\n",
    "- Mengurangi kapasitas dari neural network.\n",
    "- Menambahkan regularisasi berat\n",
    "- Menambahkan dropout.\n",
    "\n",
    "4. Model yang baik adalah model yang bisa menjelaskan data tanpa terpengaruh oleh data noise. Model tidak akan fit terhadap tiap data point, namun mampu menjelaskan trend atau kelompok data. Model yang baik akan memiliki low coss dan akurasi tinggi.\n",
    "\n",
    "\n",
    "5. GridSearchCV dilakukan ketika model butuh dicek satu per satu sebelum penentuan parameter dan bagus di implementasikan pada data yang sedikit sedangkan RandomizedSearchCV dilakukan ketika model akan dicek random dan metode ini bagus untuk data engan parameter yang cukup banyak."
   ]
  },
  {
   "cell_type": "markdown",
   "metadata": {
    "colab_type": "text",
    "id": "Hkh-PeRL_LZp"
   },
   "source": [
    "<h1> Soal 4: Aplikasi Model Selection</h1>\n",
    "\n",
    "1. Bagi kedua data berikut ini menjadi data training dan data test dengan test_size=0.25.\n",
    "2. Gunakan algoritma KNN sebagai model classifier.\n",
    "3. Gunakan fungsi GridSearchCV untuk hyperparameter tuning dan model selection.\n",
    "4. jumlah fold bebas!, gunakan scoring 'roc_auc'\n",
    "5. Definisikan kombinasi hyperparameter untuk model selection dengan GridSearchCV. kombinasi Hyperparameter bebas, baca lagi dokumentasi KNN di link berikut https://scikit-learn.org/stable/modules/generated/sklearn.neighbors.KNeighborsClassifier.html untuk memahami lagi jenis2 hyperparameter di algorithma KNN.\n",
    "6. Latih model terhadap data training.\n",
    "7. Apa hyperparameter terbaik untuk kombinasi hyperparameter kalian?\n",
    "8. Berapa score validasi terbaik dari model tersebut?\n",
    "9. Prediksi probabilitasi output dari model yang telah di buat terhadap data test. note : gunakan method .predict_proba() untuk menghasilkan output probabilitas\n",
    "10. Perhatikan bahwa hasil prediksi ada 2, dimana masing2 adalah nilai probabilitas untuk setiap class label. Ambil nilai probabilitas pasien phositive meninggal dalam waktu kurang dari 5 tahun. note : gunakan bantuan attirubte .classes_ untuk mengetahui urutan label dari hasil prediksi probabilitas.\n",
    "11. Berapa nilai score roc_auc untuk data test?\n",
    "12. Apakah model anda termasuk baik, overtting, atau underfitting?\n",
    "13. Ulangi tahap di atas namun kali ini menggunakan algoritma DecisionTreeClassifier dan kalian bisa menggunakan RandomizedSearchCV apabila process training lama. pelajari algoritma DecisionTreeClassifier di linkberikut: https://scikit-learn.org/stable/modules/generated/sklearn.tree.DecisionTreeClassifier.html?highlight=decisiontreeclassifier#sklearn.tree.DecisionTreeClassifier\n",
    "14. Bandingkan scorenya dengan Algoritma KNN, mana yang lebih baik?\n",
    "\n",
    "Note : Data Science adalah experiment, sangat di dimungkinkan memerlukan beberapa kali percobaan untuk mendapatkan hasil yang terbaik! Happy Coding :)"
   ]
  },
  {
   "cell_type": "code",
   "execution_count": 8,
   "metadata": {
    "colab": {},
    "colab_type": "code",
    "id": "l_zK8Mqb-9Z6"
   },
   "outputs": [],
   "source": [
    "import pandas as pd\n",
    "\n",
    "url = 'https://raw.githubusercontent.com/jbrownlee/Datasets/master/haberman.csv'\n",
    "list_cols = ['Age', \"Patient's Years\", \"N_positive_ax\", \"survival_status\"]\n",
    "df = pd.read_csv(url, names=list_cols)"
   ]
  },
  {
   "cell_type": "code",
   "execution_count": 9,
   "metadata": {
    "colab": {},
    "colab_type": "code",
    "id": "qb-AD43R_V_d"
   },
   "outputs": [
    {
     "data": {
      "text/html": [
       "<div>\n",
       "<style scoped>\n",
       "    .dataframe tbody tr th:only-of-type {\n",
       "        vertical-align: middle;\n",
       "    }\n",
       "\n",
       "    .dataframe tbody tr th {\n",
       "        vertical-align: top;\n",
       "    }\n",
       "\n",
       "    .dataframe thead th {\n",
       "        text-align: right;\n",
       "    }\n",
       "</style>\n",
       "<table border=\"1\" class=\"dataframe\">\n",
       "  <thead>\n",
       "    <tr style=\"text-align: right;\">\n",
       "      <th></th>\n",
       "      <th>Age</th>\n",
       "      <th>Patient's Years</th>\n",
       "      <th>N_positive_ax</th>\n",
       "      <th>survival_status</th>\n",
       "    </tr>\n",
       "  </thead>\n",
       "  <tbody>\n",
       "    <tr>\n",
       "      <th>0</th>\n",
       "      <td>30</td>\n",
       "      <td>64</td>\n",
       "      <td>1</td>\n",
       "      <td>1</td>\n",
       "    </tr>\n",
       "    <tr>\n",
       "      <th>1</th>\n",
       "      <td>30</td>\n",
       "      <td>62</td>\n",
       "      <td>3</td>\n",
       "      <td>1</td>\n",
       "    </tr>\n",
       "    <tr>\n",
       "      <th>2</th>\n",
       "      <td>30</td>\n",
       "      <td>65</td>\n",
       "      <td>0</td>\n",
       "      <td>1</td>\n",
       "    </tr>\n",
       "    <tr>\n",
       "      <th>3</th>\n",
       "      <td>31</td>\n",
       "      <td>59</td>\n",
       "      <td>2</td>\n",
       "      <td>1</td>\n",
       "    </tr>\n",
       "    <tr>\n",
       "      <th>4</th>\n",
       "      <td>31</td>\n",
       "      <td>65</td>\n",
       "      <td>4</td>\n",
       "      <td>1</td>\n",
       "    </tr>\n",
       "  </tbody>\n",
       "</table>\n",
       "</div>"
      ],
      "text/plain": [
       "   Age  Patient's Years  N_positive_ax  survival_status\n",
       "0   30               64              1                1\n",
       "1   30               62              3                1\n",
       "2   30               65              0                1\n",
       "3   31               59              2                1\n",
       "4   31               65              4                1"
      ]
     },
     "execution_count": 9,
     "metadata": {},
     "output_type": "execute_result"
    }
   ],
   "source": [
    "df.head()"
   ]
  },
  {
   "cell_type": "code",
   "execution_count": 10,
   "metadata": {
    "colab": {},
    "colab_type": "code",
    "id": "znc1dEGO_XU2"
   },
   "outputs": [],
   "source": [
    "# mendefinisikan data target dan data feature\n",
    "x = df.drop('survival_status', axis=1)\n",
    "y = df['survival_status']"
   ]
  },
  {
   "cell_type": "code",
   "execution_count": 11,
   "metadata": {},
   "outputs": [
    {
     "name": "stdout",
     "output_type": "stream",
     "text": [
      "(229, 3) (229,)\n",
      "(77, 3) (77,)\n"
     ]
    }
   ],
   "source": [
    "# membagi data dengan test_size = 0.25\n",
    "# data latih digunakan untuk belajar\n",
    "# data test digunakan untuk prediksi\n",
    "\n",
    "from sklearn.model_selection import train_test_split\n",
    "x_train, x_test, y_train, y_test = train_test_split(x, y, test_size = 0.25, random_state = 0)\n",
    "print(x_train.shape, y_train.shape)\n",
    "print(x_test.shape, y_test.shape)"
   ]
  },
  {
   "cell_type": "markdown",
   "metadata": {},
   "source": [
    "<h3> Algoritma KNN </h3>"
   ]
  },
  {
   "cell_type": "code",
   "execution_count": 12,
   "metadata": {},
   "outputs": [
    {
     "data": {
      "text/plain": [
       "KNeighborsClassifier()"
      ]
     },
     "execution_count": 12,
     "metadata": {},
     "output_type": "execute_result"
    }
   ],
   "source": [
    "# klasifikasi dengan menggunakan algoritma knn\n",
    "from sklearn.neighbors import KNeighborsClassifier\n",
    "knn = KNeighborsClassifier()\n",
    "knn.fit(x_train, y_train)"
   ]
  },
  {
   "cell_type": "code",
   "execution_count": 13,
   "metadata": {},
   "outputs": [
    {
     "name": "stdout",
     "output_type": "stream",
     "text": [
      "Fitting 3 folds for each of 16 candidates, totalling 48 fits\n"
     ]
    },
    {
     "name": "stderr",
     "output_type": "stream",
     "text": [
      "[Parallel(n_jobs=-1)]: Using backend LokyBackend with 4 concurrent workers.\n",
      "[Parallel(n_jobs=-1)]: Done  48 out of  48 | elapsed:    4.3s finished\n"
     ]
    }
   ],
   "source": [
    "from sklearn.model_selection import GridSearchCV\n",
    "\n",
    "# fungsi gridsearchcv\n",
    "grid_params = {'n_neighbors':[3,5,7,9],\n",
    "              'weights':['uniform','distance'],\n",
    "              'metric':['euclidean','manhattan']}\n",
    "\n",
    "# kombinasi hyperparameter dengan gridsearchcv\n",
    "grid = GridSearchCV(KNeighborsClassifier(), grid_params,\n",
    "                   verbose=1, cv=3, n_jobs=-1, scoring='roc_auc')\n",
    "\n",
    "# latih model terhadap data train\n",
    "grid.results = grid.fit(x_train, y_train)"
   ]
  },
  {
   "cell_type": "code",
   "execution_count": 14,
   "metadata": {},
   "outputs": [
    {
     "name": "stdout",
     "output_type": "stream",
     "text": [
      "Hyperparameter terbaik untuk kombinasi hyperparameter adalah :  {'metric': 'manhattan', 'n_neighbors': 7, 'weights': 'uniform'}\n"
     ]
    }
   ],
   "source": [
    "# hyperparameter terbaik\n",
    "print('Hyperparameter terbaik untuk kombinasi hyperparameter adalah : ',grid.results.best_params_)"
   ]
  },
  {
   "cell_type": "code",
   "execution_count": 15,
   "metadata": {},
   "outputs": [
    {
     "name": "stdout",
     "output_type": "stream",
     "text": [
      "Score validasi terbaik untuk model adalah :  0.6803075149551345\n"
     ]
    }
   ],
   "source": [
    "# score validasi terbaik\n",
    "print('Score validasi terbaik untuk model adalah : ',grid.results.best_score_)"
   ]
  },
  {
   "cell_type": "code",
   "execution_count": 16,
   "metadata": {},
   "outputs": [
    {
     "data": {
      "text/plain": [
       "array([[1.        , 0.        ],\n",
       "       [0.71428571, 0.28571429],\n",
       "       [0.71428571, 0.28571429],\n",
       "       [1.        , 0.        ],\n",
       "       [0.71428571, 0.28571429],\n",
       "       [0.71428571, 0.28571429],\n",
       "       [1.        , 0.        ],\n",
       "       [0.42857143, 0.57142857],\n",
       "       [0.42857143, 0.57142857],\n",
       "       [0.85714286, 0.14285714],\n",
       "       [0.85714286, 0.14285714],\n",
       "       [0.85714286, 0.14285714],\n",
       "       [0.42857143, 0.57142857],\n",
       "       [0.71428571, 0.28571429],\n",
       "       [0.28571429, 0.71428571],\n",
       "       [0.85714286, 0.14285714],\n",
       "       [0.42857143, 0.57142857],\n",
       "       [1.        , 0.        ],\n",
       "       [1.        , 0.        ],\n",
       "       [1.        , 0.        ],\n",
       "       [1.        , 0.        ],\n",
       "       [0.71428571, 0.28571429],\n",
       "       [0.85714286, 0.14285714],\n",
       "       [1.        , 0.        ],\n",
       "       [0.28571429, 0.71428571],\n",
       "       [0.57142857, 0.42857143],\n",
       "       [1.        , 0.        ],\n",
       "       [0.71428571, 0.28571429],\n",
       "       [0.85714286, 0.14285714],\n",
       "       [0.85714286, 0.14285714],\n",
       "       [1.        , 0.        ],\n",
       "       [1.        , 0.        ],\n",
       "       [0.71428571, 0.28571429],\n",
       "       [0.71428571, 0.28571429],\n",
       "       [0.71428571, 0.28571429],\n",
       "       [1.        , 0.        ],\n",
       "       [1.        , 0.        ],\n",
       "       [0.71428571, 0.28571429],\n",
       "       [0.42857143, 0.57142857],\n",
       "       [0.85714286, 0.14285714],\n",
       "       [0.42857143, 0.57142857],\n",
       "       [1.        , 0.        ],\n",
       "       [0.71428571, 0.28571429],\n",
       "       [0.85714286, 0.14285714],\n",
       "       [0.71428571, 0.28571429],\n",
       "       [0.85714286, 0.14285714],\n",
       "       [0.85714286, 0.14285714],\n",
       "       [0.57142857, 0.42857143],\n",
       "       [0.71428571, 0.28571429],\n",
       "       [1.        , 0.        ],\n",
       "       [0.85714286, 0.14285714],\n",
       "       [0.85714286, 0.14285714],\n",
       "       [0.71428571, 0.28571429],\n",
       "       [0.85714286, 0.14285714],\n",
       "       [1.        , 0.        ],\n",
       "       [0.85714286, 0.14285714],\n",
       "       [1.        , 0.        ],\n",
       "       [0.85714286, 0.14285714],\n",
       "       [1.        , 0.        ],\n",
       "       [0.85714286, 0.14285714],\n",
       "       [0.71428571, 0.28571429],\n",
       "       [1.        , 0.        ],\n",
       "       [1.        , 0.        ],\n",
       "       [0.71428571, 0.28571429],\n",
       "       [0.71428571, 0.28571429],\n",
       "       [1.        , 0.        ],\n",
       "       [1.        , 0.        ],\n",
       "       [0.85714286, 0.14285714],\n",
       "       [0.85714286, 0.14285714],\n",
       "       [0.42857143, 0.57142857],\n",
       "       [0.85714286, 0.14285714],\n",
       "       [0.42857143, 0.57142857],\n",
       "       [0.85714286, 0.14285714],\n",
       "       [0.57142857, 0.42857143],\n",
       "       [0.85714286, 0.14285714],\n",
       "       [0.42857143, 0.57142857],\n",
       "       [1.        , 0.        ]])"
      ]
     },
     "execution_count": 16,
     "metadata": {},
     "output_type": "execute_result"
    }
   ],
   "source": [
    "# prediksi proba\n",
    "predict = grid.predict_proba(x_test)\n",
    "predict"
   ]
  },
  {
   "cell_type": "code",
   "execution_count": 17,
   "metadata": {},
   "outputs": [
    {
     "data": {
      "text/plain": [
       "array([1, 2], dtype=int64)"
      ]
     },
     "execution_count": 17,
     "metadata": {},
     "output_type": "execute_result"
    }
   ],
   "source": [
    "# melihat class yang dibutuhkan\n",
    "grid.classes_"
   ]
  },
  {
   "cell_type": "code",
   "execution_count": 18,
   "metadata": {},
   "outputs": [
    {
     "data": {
      "text/plain": [
       "array([0.        , 0.28571429, 0.28571429, 0.        , 0.28571429,\n",
       "       0.28571429, 0.        , 0.57142857, 0.57142857, 0.14285714,\n",
       "       0.14285714, 0.14285714, 0.57142857, 0.28571429, 0.71428571,\n",
       "       0.14285714, 0.57142857, 0.        , 0.        , 0.        ,\n",
       "       0.        , 0.28571429, 0.14285714, 0.        , 0.71428571,\n",
       "       0.42857143, 0.        , 0.28571429, 0.14285714, 0.14285714,\n",
       "       0.        , 0.        , 0.28571429, 0.28571429, 0.28571429,\n",
       "       0.        , 0.        , 0.28571429, 0.57142857, 0.14285714,\n",
       "       0.57142857, 0.        , 0.28571429, 0.14285714, 0.28571429,\n",
       "       0.14285714, 0.14285714, 0.42857143, 0.28571429, 0.        ,\n",
       "       0.14285714, 0.14285714, 0.28571429, 0.14285714, 0.        ,\n",
       "       0.14285714, 0.        , 0.14285714, 0.        , 0.14285714,\n",
       "       0.28571429, 0.        , 0.        , 0.28571429, 0.28571429,\n",
       "       0.        , 0.        , 0.14285714, 0.14285714, 0.57142857,\n",
       "       0.14285714, 0.57142857, 0.14285714, 0.42857143, 0.14285714,\n",
       "       0.57142857, 0.        ])"
      ]
     },
     "execution_count": 18,
     "metadata": {},
     "output_type": "execute_result"
    }
   ],
   "source": [
    "# prediksi dengan syarat\n",
    "probability = predict[:,1]\n",
    "probability"
   ]
  },
  {
   "cell_type": "code",
   "execution_count": 19,
   "metadata": {},
   "outputs": [
    {
     "name": "stdout",
     "output_type": "stream",
     "text": [
      "Score roc_auc untuk data test :  0.5210378681626928\n"
     ]
    }
   ],
   "source": [
    "# nilai score roc_auc dari data test\n",
    "from sklearn.metrics import roc_auc_score\n",
    "y_pred = knn.predict(x_test)\n",
    "roc_auc_score = roc_auc_score(y_test, y_pred)\n",
    "print('Score roc_auc untuk data test : ',roc_auc_score)"
   ]
  },
  {
   "cell_type": "markdown",
   "metadata": {},
   "source": [
    "Data termasuk underfitting karena nilai score nya hanya 0,5210378681626928"
   ]
  },
  {
   "cell_type": "markdown",
   "metadata": {},
   "source": [
    "<h3> Algoritma Decision Tree </h3>"
   ]
  },
  {
   "cell_type": "code",
   "execution_count": 21,
   "metadata": {},
   "outputs": [
    {
     "data": {
      "text/plain": [
       "DecisionTreeRegressor()"
      ]
     },
     "execution_count": 21,
     "metadata": {},
     "output_type": "execute_result"
    }
   ],
   "source": [
    "# klasifikasi dengan menggunakan algoritma decision tree\n",
    "from sklearn.tree import DecisionTreeRegressor\n",
    "dtree = DecisionTreeRegressor()\n",
    "dtree.fit(x_train, y_train)"
   ]
  },
  {
   "cell_type": "code",
   "execution_count": 22,
   "metadata": {},
   "outputs": [
    {
     "name": "stdout",
     "output_type": "stream",
     "text": [
      "Fitting 3 folds for each of 144 candidates, totalling 432 fits\n"
     ]
    },
    {
     "name": "stderr",
     "output_type": "stream",
     "text": [
      "[Parallel(n_jobs=-1)]: Using backend LokyBackend with 4 concurrent workers.\n",
      "[Parallel(n_jobs=-1)]: Done 312 tasks      | elapsed:    0.9s\n",
      "[Parallel(n_jobs=-1)]: Done 432 out of 432 | elapsed:    1.1s finished\n"
     ]
    }
   ],
   "source": [
    "from sklearn.model_selection import RandomizedSearchCV\n",
    "\n",
    "# fungsi randomsearchcv\n",
    "rand_params = {\n",
    "               'splitter':['best','random'],\n",
    "               'max_depth':[4,6,8,10],\n",
    "               'min_samples_split':[2,3,4],\n",
    "               'min_samples_leaf':[3,4,5],\n",
    "               'max_leaf_nodes':[10,12]}\n",
    "\n",
    "# kombinasi hyperparameter dengan randomsearchcv\n",
    "rand = GridSearchCV(DecisionTreeRegressor(), rand_params,\n",
    "                   verbose=1, cv=3, n_jobs=-1, scoring='roc_auc')\n",
    "\n",
    "# latih model terhadap data train\n",
    "rand.results = rand.fit(x_train, y_train)"
   ]
  },
  {
   "cell_type": "code",
   "execution_count": 23,
   "metadata": {},
   "outputs": [
    {
     "name": "stdout",
     "output_type": "stream",
     "text": [
      "Hyperparameter terbaik untuk kombinasi hyperparameter adalah :  {'max_depth': 4, 'max_leaf_nodes': 10, 'min_samples_leaf': 3, 'min_samples_split': 2, 'splitter': 'random'}\n"
     ]
    }
   ],
   "source": [
    "# hyperparameter terbaik\n",
    "print('Hyperparameter terbaik untuk kombinasi hyperparameter adalah : ',rand.results.best_params_)"
   ]
  },
  {
   "cell_type": "code",
   "execution_count": 24,
   "metadata": {},
   "outputs": [
    {
     "name": "stdout",
     "output_type": "stream",
     "text": [
      "Score validasi terbaik untuk model adalah :  0.700038191917967\n"
     ]
    }
   ],
   "source": [
    "# score validasi terbaik\n",
    "print('Score validasi terbaik untuk model adalah : ',rand.results.best_score_)"
   ]
  },
  {
   "cell_type": "code",
   "execution_count": 28,
   "metadata": {},
   "outputs": [
    {
     "data": {
      "text/plain": [
       "array([1.2195122 , 1.45454545, 1.15384615, 1.2195122 , 1.45454545,\n",
       "       1.45454545, 1.07894737, 1.45454545, 1.45454545, 1.07894737,\n",
       "       1.07894737, 1.15384615, 1.2195122 , 1.15384615, 1.45454545,\n",
       "       1.15384615, 1.45454545, 1.2195122 , 1.07894737, 1.07894737,\n",
       "       1.15384615, 1.2195122 , 1.15384615, 1.45454545, 1.45454545,\n",
       "       1.2195122 , 1.2195122 , 1.2195122 , 1.2195122 , 1.2195122 ,\n",
       "       1.07894737, 1.07894737, 1.45454545, 1.2195122 , 1.07894737,\n",
       "       1.2195122 , 1.07894737, 1.07894737, 1.45454545, 1.07894737,\n",
       "       1.45454545, 1.45454545, 1.07894737, 1.2195122 , 1.07894737,\n",
       "       1.07894737, 1.07894737, 1.2195122 , 1.07894737, 1.45454545,\n",
       "       1.15384615, 1.07894737, 1.2195122 , 1.07894737, 1.07894737,\n",
       "       1.07894737, 1.2195122 , 1.2195122 , 1.15384615, 1.07894737,\n",
       "       1.07894737, 1.2195122 , 1.07894737, 1.2195122 , 1.2195122 ,\n",
       "       1.07894737, 1.2195122 , 1.07894737, 1.2195122 , 1.66666667,\n",
       "       1.2195122 , 1.45454545, 1.2195122 , 1.45454545, 1.2195122 ,\n",
       "       1.45454545, 1.15384615])"
      ]
     },
     "execution_count": 28,
     "metadata": {},
     "output_type": "execute_result"
    }
   ],
   "source": [
    "# prediksi\n",
    "predict = rand.predict(x_test)\n",
    "predict"
   ]
  },
  {
   "cell_type": "code",
   "execution_count": 27,
   "metadata": {},
   "outputs": [
    {
     "name": "stdout",
     "output_type": "stream",
     "text": [
      "Score roc_auc untuk data test :  0.5525946704067322\n"
     ]
    }
   ],
   "source": [
    "# nilai score roc_auc dari data test\n",
    "from sklearn.metrics import roc_auc_score\n",
    "y_pred = dtree.predict(x_test)\n",
    "roc_auc_score = roc_auc_score(y_test, y_pred)\n",
    "print('Score roc_auc untuk data test : ',roc_auc_score)"
   ]
  },
  {
   "cell_type": "markdown",
   "metadata": {},
   "source": [
    "Data termasuk underfitting karena nilai score nya hanya 0,5525946704067322"
   ]
  },
  {
   "cell_type": "markdown",
   "metadata": {},
   "source": [
    "<h3> Perbandingan 2 Algoritma</h3>"
   ]
  },
  {
   "cell_type": "code",
   "execution_count": 29,
   "metadata": {},
   "outputs": [],
   "source": [
    "from sklearn.metrics import roc_curve, roc_auc_score\n",
    "proba1 = knn.predict_proba(x_test)[:,1]\n",
    "proba2 = dtree.predict(x_test)\n",
    "fpr1, tpr1, thresholds1 = roc_curve(y_test, proba1, pos_label=2)\n",
    "fpr2, tpr2, thresholds2 = roc_curve(y_test, proba2, pos_label=2)"
   ]
  },
  {
   "cell_type": "code",
   "execution_count": 30,
   "metadata": {},
   "outputs": [
    {
     "data": {
      "image/png": "[encoded data removed]",
      "text/plain": [
       "<Figure size 432x288 with 1 Axes>"
      ]
     },
     "metadata": {
      "needs_background": "light"
     },
     "output_type": "display_data"
    },
    {
     "data": {
      "image/png": "[encoded data removed]",
      "text/plain": [
       "<Figure size 432x288 with 1 Axes>"
      ]
     },
     "metadata": {
      "needs_background": "light"
     },
     "output_type": "display_data"
    }
   ],
   "source": [
    "import matplotlib.pyplot as plt\n",
    "plt.subplots(figsize=(6,4))\n",
    "plt.title('ROC - KNN')\n",
    "plt.plot(fpr1, tpr1)\n",
    "plt.plot([0, 1], ls=\"--\")\n",
    "plt.plot([0, 0], [1, 0] , c=\".7\"), plt.plot([1, 1] , c=\".7\")\n",
    "\n",
    "plt.ylabel('True Positive Rate')\n",
    "plt.xlabel('False Positive Rate')\n",
    "plt.show()\n",
    "\n",
    "plt.subplots(figsize=(6,4))\n",
    "plt.title('ROC - Decision Tree')\n",
    "plt.plot(fpr2, tpr2)\n",
    "plt.plot([0, 1], ls=\"--\")\n",
    "plt.plot([0, 0], [1, 0] , c=\".7\"), plt.plot([1, 1] , c=\".7\")\n",
    "\n",
    "plt.ylabel('True Positive Rate')\n",
    "plt.xlabel('False Positive Rate')\n",
    "plt.show()"
   ]
  },
  {
   "cell_type": "code",
   "execution_count": null,
   "metadata": {},
   "outputs": [],
   "source": []
  }
 ],
 "metadata": {
  "colab": {
   "collapsed_sections": [],
   "name": "Tugas Hari 3 Pekan 4.ipynb",
   "provenance": []
  },
  "kernelspec": {
   "display_name": "Python 3",
   "language": "python",
   "name": "python3"
  },
  "language_info": {
   "codemirror_mode": {
    "name": "ipython",
    "version": 3
   },
   "file_extension": ".py",
   "mimetype": "text/x-python",
   "name": "python",
   "nbconvert_exporter": "python",
   "pygments_lexer": "ipython3",
   "version": "3.8.5"
  }
 },
 "nbformat": 4,
 "nbformat_minor": 1
}
